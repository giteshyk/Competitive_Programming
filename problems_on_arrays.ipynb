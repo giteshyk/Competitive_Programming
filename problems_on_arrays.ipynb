{
 "cells": [
  {
   "cell_type": "code",
   "execution_count": 29,
   "metadata": {},
   "outputs": [],
   "source": [
    "def largest_element_in_array(nums):\n",
    "    size = len(nums)\n",
    "    largest_element = nums[0]\n",
    "\n",
    "    for i in range(1, size):\n",
    "        if largest_element < nums[i]:\n",
    "            largest_element = nums[i]\n",
    "\n",
    "    return largest_element"
   ]
  },
  {
   "cell_type": "code",
   "execution_count": 30,
   "metadata": {},
   "outputs": [],
   "source": [
    "def second_largest(nums):\n",
    "    largest = nums[0]\n",
    "    second_largest = -1\n",
    "    if len(nums) < 2:\n",
    "        return -1\n",
    "    for i in range(len(nums)):\n",
    "        if largest < nums[i]:\n",
    "            second_largest = largest\n",
    "            largest = nums[i]\n",
    "        elif second_largest < nums[i] and largest != nums[i]:\n",
    "            second_largest = nums[i]\n",
    "    return second_largest"
   ]
  },
  {
   "cell_type": "code",
   "execution_count": 31,
   "metadata": {},
   "outputs": [],
   "source": [
    "def sorted_and_rotated(nums):\n",
    "    gaddari = 0\n",
    "    for i in range(len(nums)):\n",
    "        if nums[i] > nums[(i+1)%len(nums)]:\n",
    "            gaddari += 1\n",
    "    if gaddari > 1:\n",
    "        return False\n",
    "\n",
    "    return True"
   ]
  },
  {
   "cell_type": "code",
   "execution_count": 32,
   "metadata": {},
   "outputs": [],
   "source": [
    "def removeDuplicates(nums):\n",
    "    i=0\n",
    "    for j in range(1,len(nums)):\n",
    "        if nums[j] != nums[i]:\n",
    "            nums[i+1] = nums[j]\n",
    "            i+=1\n",
    "\n",
    "    return nums"
   ]
  },
  {
   "cell_type": "code",
   "execution_count": 33,
   "metadata": {},
   "outputs": [],
   "source": [
    "def rotateArrayBrute(nums,k):\n",
    "    size = len(nums)\n",
    "    k = k%size\n",
    "    temp = [0]*size\n",
    "\n",
    "    for i in range(size):\n",
    "        t2 = (k+i)%size\n",
    "        temp[t2] = nums[i]\n",
    "    \n",
    "    return temp"
   ]
  },
  {
   "cell_type": "code",
   "execution_count": 34,
   "metadata": {},
   "outputs": [],
   "source": [
    "def rotateArray(nums,k):\n",
    "    size = len(nums)\n",
    "    k=k%size\n",
    "\n",
    "    def rev(l, r):\n",
    "        while l < r:\n",
    "            nums[l], nums[r] = nums[r], nums[l]\n",
    "            l+=1\n",
    "            r-=1\n",
    "    \n",
    "    rev(0,size-1)\n",
    "    rev(0,k-1)\n",
    "    rev(k,size-1)\n",
    "\n",
    "    return nums"
   ]
  },
  {
   "cell_type": "code",
   "execution_count": 35,
   "metadata": {},
   "outputs": [],
   "source": [
    "def moveZeroestoEnd(nums):\n",
    "    size = len(nums)\n",
    "\n",
    "    i = 0\n",
    "\n",
    "    for j in range(size):\n",
    "        if nums[j]!=0:\n",
    "            nums[i], nums[j] = nums[j],nums[i]\n",
    "            i+=1\n",
    "\n",
    "    return nums"
   ]
  },
  {
   "cell_type": "code",
   "execution_count": 36,
   "metadata": {},
   "outputs": [],
   "source": [
    "def findUnion(arr1,arr2):\n",
    "        freq = {}\n",
    "        union = []\n",
    "        \n",
    "        for num in arr1:\n",
    "            freq[num] = freq.get(num,0) + 1       \n",
    "        for num in arr2:\n",
    "            freq[num] = freq.get(num,0) + 1\n",
    "        for num in freq:\n",
    "            union.append(num)\n",
    "\n",
    "        union.sort()     \n",
    "        return union "
   ]
  },
  {
   "cell_type": "code",
   "execution_count": 37,
   "metadata": {},
   "outputs": [],
   "source": [
    "def find_union(arr1, arr2):\n",
    "    s = set()\n",
    "    union = []\n",
    "    \n",
    "    for num in arr1:\n",
    "        s.add(num)\n",
    "    for num in arr2:\n",
    "        s.add(num)\n",
    "    for num in s:\n",
    "        union.append(num)\n",
    "    \n",
    "    return union"
   ]
  },
  {
   "cell_type": "code",
   "execution_count": 38,
   "metadata": {},
   "outputs": [],
   "source": [
    "def find_union_optimal(arr1, arr2):\n",
    "\n",
    "    l, r = 0, 0\n",
    "    union=[]\n",
    "\n",
    "    while l<len(arr1) and r<len(arr2):\n",
    "        if arr1[l] <= arr2[r]:\n",
    "            if len(union) == 0 or union[-1] != arr1[l]:\n",
    "                union.append(arr1[l])\n",
    "            l += 1\n",
    "        else:\n",
    "            if len(union) == 0 or union[-1] != arr2[r]:\n",
    "                union.append(arr2[r])\n",
    "            r += 1\n",
    "\n",
    "    while l<len(arr1):\n",
    "        if union[-1] != arr1[l]:\n",
    "                union.append(arr1[l])\n",
    "        l += 1\n",
    "\n",
    "    while r<len(arr2):\n",
    "        if union[-1] != arr2[r]:\n",
    "                union.append(arr2[r])\n",
    "        r += 1\n",
    "\n",
    "    return union\n"
   ]
  },
  {
   "cell_type": "code",
   "execution_count": 39,
   "metadata": {},
   "outputs": [],
   "source": [
    "def missing_number_summn(nums):\n",
    "    n = len(nums)\n",
    "\n",
    "    sum_n = n*(n+1)//2\n",
    "    sum_nums = sum(nums)\n",
    "\n",
    "    return sum_n-sum_nums"
   ]
  },
  {
   "cell_type": "code",
   "execution_count": 40,
   "metadata": {},
   "outputs": [],
   "source": [
    "def missing_number_xor(nums):\n",
    "    n = len(nums)\n",
    "    xor1 = 0\n",
    "    xor2 = 0\n",
    "\n",
    "    for i in range(n):\n",
    "        xor1 = xor1^nums[i]\n",
    "        xor2 = xor2^(i+1)\n",
    "\n",
    "    return xor1^xor2\n",
    "    "
   ]
  },
  {
   "cell_type": "code",
   "execution_count": 41,
   "metadata": {},
   "outputs": [],
   "source": [
    "def findMaxConsecutiveOnes(nums):\n",
    "    count = 0\n",
    "    max_count = 0\n",
    "\n",
    "    for item in nums:\n",
    "        if item==1:\n",
    "            count+=1\n",
    "            if count>max_count:\n",
    "                max_count=count\n",
    "        else:\n",
    "            count = 0\n",
    "\n",
    "    return max_count"
   ]
  },
  {
   "cell_type": "code",
   "execution_count": 42,
   "metadata": {},
   "outputs": [],
   "source": [
    "def singleNumberBrute(nums):\n",
    "    freq = {}\n",
    "\n",
    "    for num in nums:\n",
    "        freq[num] = freq.get(num,0)+1\n",
    "        if freq[num]==2:\n",
    "            freq.pop(num)\n",
    "\n",
    "    return list(freq.keys())[-1]"
   ]
  },
  {
   "cell_type": "code",
   "execution_count": 43,
   "metadata": {},
   "outputs": [],
   "source": [
    "def singleNumberXOR(nums):\n",
    "    r=0\n",
    "    for num in nums:\n",
    "        r = r^num\n",
    "    return r"
   ]
  },
  {
   "cell_type": "code",
   "execution_count": null,
   "metadata": {},
   "outputs": [],
   "source": []
  }
 ],
 "metadata": {
  "kernelspec": {
   "display_name": "Python 3",
   "language": "python",
   "name": "python3"
  },
  "language_info": {
   "codemirror_mode": {
    "name": "ipython",
    "version": 3
   },
   "file_extension": ".py",
   "mimetype": "text/x-python",
   "name": "python",
   "nbconvert_exporter": "python",
   "pygments_lexer": "ipython3",
   "version": "3.12.6"
  }
 },
 "nbformat": 4,
 "nbformat_minor": 2
}
