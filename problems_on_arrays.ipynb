{
 "cells": [
  {
   "cell_type": "code",
   "execution_count": 2,
   "metadata": {},
   "outputs": [],
   "source": [
    "def largest_element_in_array(nums):\n",
    "    size = len(nums)\n",
    "    largest_element = nums[0]\n",
    "\n",
    "    for i in range(1, size):\n",
    "        if largest_element < nums[i]:\n",
    "            largest_element = nums[i]\n",
    "\n",
    "    return largest_element"
   ]
  },
  {
   "cell_type": "code",
   "execution_count": 3,
   "metadata": {},
   "outputs": [],
   "source": [
    "def second_largest(nums):\n",
    "    largest = nums[0]\n",
    "    second_largest = -1\n",
    "    if len(nums) < 2:\n",
    "        return -1\n",
    "    for i in range(len(nums)):\n",
    "        if largest < nums[i]:\n",
    "            second_largest = largest\n",
    "            largest = nums[i]\n",
    "        elif second_largest < nums[i] and largest != nums[i]:\n",
    "            second_largest = nums[i]\n",
    "    return second_largest"
   ]
  },
  {
   "cell_type": "code",
   "execution_count": 4,
   "metadata": {},
   "outputs": [],
   "source": [
    "def sorted_and_rotated(nums):\n",
    "    gaddari = 0\n",
    "    for i in range(len(nums)):\n",
    "        if nums[i] > nums[(i+1)%len(nums)]:\n",
    "            gaddari += 1\n",
    "    if gaddari > 1:\n",
    "        return False\n",
    "\n",
    "    return True"
   ]
  },
  {
   "cell_type": "code",
   "execution_count": 5,
   "metadata": {},
   "outputs": [],
   "source": [
    "def removeDuplicates(nums):\n",
    "    i=0\n",
    "    for j in range(1,len(nums)):\n",
    "        if nums[j] != nums[i]:\n",
    "            nums[i+1] = nums[j]\n",
    "            i+=1\n",
    "\n",
    "    return nums"
   ]
  },
  {
   "cell_type": "code",
   "execution_count": 77,
   "metadata": {},
   "outputs": [],
   "source": [
    "def rotateArrayBrute(nums,k):\n",
    "    size = len(nums)\n",
    "    k = k%size\n",
    "    temp = [0]*size\n",
    "\n",
    "    for i in range(size):\n",
    "        t2 = (k+i)%size\n",
    "        temp[t2] = nums[i]\n",
    "    \n",
    "    return temp"
   ]
  },
  {
   "cell_type": "code",
   "execution_count": 103,
   "metadata": {},
   "outputs": [],
   "source": [
    "def rotateArray(nums,k):\n",
    "    size = len(nums)\n",
    "    k=k%size\n",
    "\n",
    "    def rev(l, r):\n",
    "        while l < r:\n",
    "            nums[l], nums[r] = nums[r], nums[l]\n",
    "            l+=1\n",
    "            r-=1\n",
    "    \n",
    "    rev(0,size-1)\n",
    "    rev(0,k-1)\n",
    "    rev(k,size-1)\n",
    "\n",
    "    return nums"
   ]
  },
  {
   "cell_type": "code",
   "execution_count": 162,
   "metadata": {},
   "outputs": [],
   "source": [
    "def moveZeroestoEnd(nums):\n",
    "    size = len(nums)\n",
    "\n",
    "    i = 0\n",
    "\n",
    "    for j in range(0,size):\n",
    "        if nums[j]!=0:\n",
    "            nums[i], nums[j] = nums[j],nums[i]\n",
    "            i+=1\n",
    "\n",
    "    return nums"
   ]
  },
  {
   "cell_type": "code",
   "execution_count": 164,
   "metadata": {},
   "outputs": [
    {
     "data": {
      "text/plain": [
       "[1, 1, 6, 5, 3, 7, 5, 9, 0, 0, 0]"
      ]
     },
     "execution_count": 164,
     "metadata": {},
     "output_type": "execute_result"
    }
   ],
   "source": [
    "moveZeroestoEnd([0,1,0,1,6,5,3,0,7,5,9])"
   ]
  },
  {
   "cell_type": "code",
   "execution_count": null,
   "metadata": {},
   "outputs": [],
   "source": []
  },
  {
   "cell_type": "code",
   "execution_count": null,
   "metadata": {},
   "outputs": [],
   "source": []
  }
 ],
 "metadata": {
  "kernelspec": {
   "display_name": "Python 3",
   "language": "python",
   "name": "python3"
  },
  "language_info": {
   "codemirror_mode": {
    "name": "ipython",
    "version": 3
   },
   "file_extension": ".py",
   "mimetype": "text/x-python",
   "name": "python",
   "nbconvert_exporter": "python",
   "pygments_lexer": "ipython3",
   "version": "3.12.5"
  }
 },
 "nbformat": 4,
 "nbformat_minor": 2
}
