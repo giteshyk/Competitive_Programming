{
 "cells": [
  {
   "cell_type": "code",
   "execution_count": 2,
   "metadata": {},
   "outputs": [],
   "source": [
    "def largest_element_in_array(nums):\n",
    "    size = len(nums)\n",
    "    largest_element = nums[0]\n",
    "\n",
    "    for i in range(1, size):\n",
    "        if largest_element < nums[i]:\n",
    "            largest_element = nums[i]\n",
    "\n",
    "    return largest_element"
   ]
  },
  {
   "cell_type": "code",
   "execution_count": 3,
   "metadata": {},
   "outputs": [],
   "source": [
    "def second_largest(nums):\n",
    "    largest = nums[0]\n",
    "    second_largest = -1\n",
    "    if len(nums) < 2:\n",
    "        return -1\n",
    "    for i in range(len(nums)):\n",
    "        if largest < nums[i]:\n",
    "            second_largest = largest\n",
    "            largest = nums[i]\n",
    "        elif second_largest < nums[i] and largest != nums[i]:\n",
    "            second_largest = nums[i]\n",
    "    return second_largest"
   ]
  },
  {
   "cell_type": "code",
   "execution_count": 4,
   "metadata": {},
   "outputs": [],
   "source": [
    "def sorted_and_rotated(nums):\n",
    "    gaddari = 0\n",
    "    for i in range(len(nums)):\n",
    "        if nums[i] > nums[(i+1)%len(nums)]:\n",
    "            gaddari += 1\n",
    "    if gaddari > 1:\n",
    "        return False\n",
    "\n",
    "    return True"
   ]
  },
  {
   "cell_type": "code",
   "execution_count": 5,
   "metadata": {},
   "outputs": [],
   "source": [
    "def removeDuplicates(nums):\n",
    "    i=0\n",
    "    for j in range(1,len(nums)):\n",
    "        if nums[j] != nums[i]:\n",
    "            nums[i+1] = nums[j]\n",
    "            i+=1\n",
    "\n",
    "    return nums"
   ]
  },
  {
   "cell_type": "code",
   "execution_count": 77,
   "metadata": {},
   "outputs": [],
   "source": [
    "def rotateArrayBrute(nums,k):\n",
    "    size = len(nums)\n",
    "    print(f'size={size}, range(size)={list(range(size))}')\n",
    "    k = k%size\n",
    "    temp = [0]*size\n",
    "\n",
    "    for i in range(size):\n",
    "        t2 = (k+i)%size\n",
    "        print(f'at i={i}, temp[{t2}] = {nums[i]} (nums[{i}])')\n",
    "        temp[t2] = nums[i]\n",
    "    \n",
    "    return temp\n",
    "    "
   ]
  },
  {
   "cell_type": "code",
   "execution_count": 76,
   "metadata": {},
   "outputs": [
    {
     "name": "stdout",
     "output_type": "stream",
     "text": [
      "size=4, range(size)=[0, 1, 2, 3]\n",
      "at i=0, temp[2] = -1 (nums[0])\n",
      "at i=1, temp[3] = -100 (nums[1])\n",
      "at i=2, temp[0] = 3 (nums[2])\n",
      "at i=3, temp[1] = 99 (nums[3])\n"
     ]
    },
    {
     "data": {
      "text/plain": [
       "[3, 99, -1, -100]"
      ]
     },
     "execution_count": 76,
     "metadata": {},
     "output_type": "execute_result"
    }
   ],
   "source": [
    "rotateArray([-1,-100,3,99],2)"
   ]
  },
  {
   "cell_type": "code",
   "execution_count": 56,
   "metadata": {},
   "outputs": [
    {
     "ename": "NameError",
     "evalue": "name 'size' is not defined",
     "output_type": "error",
     "traceback": [
      "\u001b[1;31m---------------------------------------------------------------------------\u001b[0m",
      "\u001b[1;31mNameError\u001b[0m                                 Traceback (most recent call last)",
      "Cell \u001b[1;32mIn[56], line 1\u001b[0m\n\u001b[1;32m----> 1\u001b[0m \u001b[38;5;28mrange\u001b[39m(\u001b[43msize\u001b[49m)\n",
      "\u001b[1;31mNameError\u001b[0m: name 'size' is not defined"
     ]
    }
   ],
   "source": []
  },
  {
   "cell_type": "code",
   "execution_count": null,
   "metadata": {},
   "outputs": [],
   "source": []
  }
 ],
 "metadata": {
  "kernelspec": {
   "display_name": "Python 3",
   "language": "python",
   "name": "python3"
  },
  "language_info": {
   "codemirror_mode": {
    "name": "ipython",
    "version": 3
   },
   "file_extension": ".py",
   "mimetype": "text/x-python",
   "name": "python",
   "nbconvert_exporter": "python",
   "pygments_lexer": "ipython3",
   "version": "3.12.5"
  }
 },
 "nbformat": 4,
 "nbformat_minor": 2
}
