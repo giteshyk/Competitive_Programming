{
 "cells": [
  {
   "cell_type": "code",
   "execution_count": 67,
   "metadata": {},
   "outputs": [],
   "source": [
    "def largest_element_in_array(nums):\n",
    "    size = len(nums)\n",
    "    largest_element = nums[0]\n",
    "\n",
    "    for i in range(1, size):\n",
    "        if largest_element < nums[i]:\n",
    "            largest_element = nums[i]\n",
    "\n",
    "    return largest_element"
   ]
  },
  {
   "cell_type": "code",
   "execution_count": 68,
   "metadata": {},
   "outputs": [],
   "source": [
    "def second_largest(nums):\n",
    "    largest = nums[0]\n",
    "    second_largest = -1\n",
    "    if len(nums) < 2:\n",
    "        return -1\n",
    "    for i in range(len(nums)):\n",
    "        if largest < nums[i]:\n",
    "            second_largest = largest\n",
    "            largest = nums[i]\n",
    "        elif second_largest < nums[i] and largest != nums[i]:\n",
    "            second_largest = nums[i]\n",
    "    return second_largest"
   ]
  },
  {
   "cell_type": "code",
   "execution_count": 69,
   "metadata": {},
   "outputs": [],
   "source": [
    "def sorted_and_rotated(nums):\n",
    "    gaddari = 0\n",
    "    for i in range(len(nums)):\n",
    "        if nums[i] > nums[(i+1)%len(nums)]:\n",
    "            gaddari += 1\n",
    "    if gaddari > 1:\n",
    "        return False\n",
    "\n",
    "    return True"
   ]
  },
  {
   "cell_type": "code",
   "execution_count": 70,
   "metadata": {},
   "outputs": [],
   "source": [
    "def removeDuplicates(nums):\n",
    "    i=0\n",
    "    for j in range(1,len(nums)):\n",
    "        if nums[j] != nums[i]:\n",
    "            nums[i+1] = nums[j]\n",
    "            i+=1\n",
    "\n",
    "    return nums"
   ]
  },
  {
   "cell_type": "code",
   "execution_count": null,
   "metadata": {},
   "outputs": [],
   "source": []
  },
  {
   "cell_type": "code",
   "execution_count": null,
   "metadata": {},
   "outputs": [],
   "source": []
  }
 ],
 "metadata": {
  "kernelspec": {
   "display_name": "Python 3",
   "language": "python",
   "name": "python3"
  },
  "language_info": {
   "codemirror_mode": {
    "name": "ipython",
    "version": 3
   },
   "file_extension": ".py",
   "mimetype": "text/x-python",
   "name": "python",
   "nbconvert_exporter": "python",
   "pygments_lexer": "ipython3",
   "version": "3.12.5"
  }
 },
 "nbformat": 4,
 "nbformat_minor": 2
}
