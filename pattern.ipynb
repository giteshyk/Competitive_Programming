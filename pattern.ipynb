{
 "cells": [
  {
   "cell_type": "code",
   "execution_count": 6,
   "metadata": {},
   "outputs": [],
   "source": [
    "def print_pyramid(n):\n",
    "    for i in range(1,n+1):\n",
    "        for _ in range(n-i,0,-1):\n",
    "            print(' ','',end = '')\n",
    "        for _ in range(1,2*i):\n",
    "            print('*','',end ='')\n",
    "        print('')"
   ]
  },
  {
   "cell_type": "code",
   "execution_count": 7,
   "metadata": {},
   "outputs": [],
   "source": [
    "def print_inv_pyramid(n):\n",
    "    for i in range(n,0,-1):\n",
    "        for _ in range(1,2*(n-i)):\n",
    "            print(' ',end='')\n",
    "        for _ in range(2*i,1,-1):\n",
    "            print('*',end=' ')\n",
    "        print('')"
   ]
  },
  {
   "cell_type": "code",
   "execution_count": 11,
   "metadata": {},
   "outputs": [],
   "source": [
    "def print_num_pattern(n):\n",
    "    \"\"\" \n",
    "    1\n",
    "    0 1\n",
    "    1 0 1\n",
    "    0 1 0 1 ..... when n = 4\n",
    "    \"\"\"\n",
    "    k = 1\n",
    "    for i in range(1,n+1):\n",
    "        if i%2==0:\n",
    "            k=0\n",
    "        else:\n",
    "            k=1\n",
    "        for _ in range(1,i+1):\n",
    "            print(k,end='')\n",
    "\n",
    "            if(k==1):\n",
    "                k=0\n",
    "            else:\n",
    "                k=1\n",
    "        print('')"
   ]
  },
  {
   "cell_type": "code",
   "execution_count": 19,
   "metadata": {},
   "outputs": [],
   "source": [
    "def print_alpha_triangle(n):\n",
    "    \n",
    "    for i in range(1, n+1):\n",
    "        temp = ord('E')+1\n",
    "        for _ in range(1,i+1):\n",
    "            print(chr(temp-i), end='')\n",
    "            temp+=1\n",
    "        print('')\n",
    "    "
   ]
  },
  {
   "cell_type": "code",
   "execution_count": 21,
   "metadata": {},
   "outputs": [],
   "source": [
    "def print_star_crown(n,inv=0):\n",
    "    if inv==0:\n",
    "        list_rng = list(range(1,n+1))\n",
    "    else:\n",
    "        list_rng = list(range(n,0,-1))\n",
    "\n",
    "    for i in list_rng:\n",
    "        for _ in range(1,i+1):\n",
    "            print('*', end='')\n",
    "        k = ' '*2*(n-i)\n",
    "        print(k, end='')\n",
    "        for _ in range(1,i+1):\n",
    "            print('*', end='')\n",
    "        print('')"
   ]
  },
  {
   "cell_type": "code",
   "execution_count": 31,
   "metadata": {},
   "outputs": [],
   "source": [
    "def print_hollow_rectangle(n):\n",
    "    for i in range(1,n+1):\n",
    "        for j in range(1,n+1):\n",
    "            if i==1 or j==1 or i==n or j==n:\n",
    "                print('*', end='')\n",
    "            else:\n",
    "                print(' ',end='')\n",
    "        print('')"
   ]
  },
  {
   "cell_type": "code",
   "execution_count": 70,
   "metadata": {},
   "outputs": [],
   "source": [
    "def print_the_number_pattern(n):\n",
    "    for i in range(1,2*n):\n",
    "        for j in range(1,2*n):\n",
    "            top = i-1\n",
    "            bottom = (2*n)-1-i\n",
    "            left = j-1\n",
    "            right = (2*n)-1-j\n",
    "            print(n-min(min(top,bottom),min(left,right)), end='')\n",
    "        print('')"
   ]
  }
 ],
 "metadata": {
  "kernelspec": {
   "display_name": "Python 3",
   "language": "python",
   "name": "python3"
  },
  "language_info": {
   "codemirror_mode": {
    "name": "ipython",
    "version": 3
   },
   "file_extension": ".py",
   "mimetype": "text/x-python",
   "name": "python",
   "nbconvert_exporter": "python",
   "pygments_lexer": "ipython3",
   "version": "3.12.5"
  }
 },
 "nbformat": 4,
 "nbformat_minor": 2
}
